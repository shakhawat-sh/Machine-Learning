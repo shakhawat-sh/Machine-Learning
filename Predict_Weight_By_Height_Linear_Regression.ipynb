{
 "cells": [
  {
   "cell_type": "code",
   "execution_count": 15,
   "id": "0eb81ea8",
   "metadata": {},
   "outputs": [],
   "source": [
    "import numpy as np\n",
    "import pandas as pd \n",
    "import matplotlib.pyplot as plt\n",
    "%matplotlib inline"
   ]
  },
  {
   "cell_type": "markdown",
   "id": "4e46f7d9",
   "metadata": {},
   "source": [
    "# Chnage the directory to Dataset directory"
   ]
  },
  {
   "cell_type": "code",
   "execution_count": 2,
   "id": "167e5095",
   "metadata": {
    "scrolled": true
   },
   "outputs": [
    {
     "data": {
      "text/plain": [
       "'C:\\\\Users\\\\user\\\\Desktop'"
      ]
     },
     "execution_count": 2,
     "metadata": {},
     "output_type": "execute_result"
    }
   ],
   "source": [
    "import os \n",
    "#Show the current directory  \n",
    "os.getcwd()"
   ]
  },
  {
   "cell_type": "code",
   "execution_count": 4,
   "id": "314917cc",
   "metadata": {},
   "outputs": [
    {
     "data": {
      "text/plain": [
       "'D:\\\\STUDY-MART\\\\class-4\\\\assignment'"
      ]
     },
     "execution_count": 4,
     "metadata": {},
     "output_type": "execute_result"
    }
   ],
   "source": [
    "#our data is not in our current working directory, so change the current directory  \n",
    "os.chdir('D:\\\\STUDY-MART\\\\class-4\\\\assignment')\n",
    "os.getcwd()"
   ]
  },
  {
   "cell_type": "markdown",
   "id": "043a4ee7",
   "metadata": {},
   "source": [
    "# Load the dataframe "
   ]
  },
  {
   "cell_type": "code",
   "execution_count": 16,
   "id": "5c203bc8",
   "metadata": {},
   "outputs": [],
   "source": [
    "data= pd.read_csv('Height-Weight Data.csv')\n",
    "df=data.copy()\n",
    "df"
   ]
  },
  {
   "cell_type": "code",
   "execution_count": 17,
   "id": "25d40aef",
   "metadata": {},
   "outputs": [
    {
     "data": {
      "text/plain": [
       "Height    False\n",
       "Weight    False\n",
       "dtype: bool"
      ]
     },
     "execution_count": 17,
     "metadata": {},
     "output_type": "execute_result"
    }
   ],
   "source": [
    "#check if there is any null value in our data frame\n",
    "df.isnull().any()"
   ]
  },
  {
   "cell_type": "markdown",
   "id": "dafe044a",
   "metadata": {},
   "source": [
    "# Set the value of fetaure & Output"
   ]
  },
  {
   "cell_type": "markdown",
   "id": "976c735a",
   "metadata": {},
   "source": [
    "We will train the machine with the height-weight values.\n",
    " Then for a particular height value we will try to find weight"
   ]
  },
  {
   "cell_type": "code",
   "execution_count": 43,
   "id": "6f1a76be",
   "metadata": {},
   "outputs": [],
   "source": [
    "#height is our freature [two dimensinal]\n",
    "x=df[['Height']];\n",
    "#Machine will predict ouput [one dimensional]\n",
    "y=df['Weight'];"
   ]
  },
  {
   "cell_type": "code",
   "execution_count": 72,
   "id": "44a5f653",
   "metadata": {},
   "outputs": [
    {
     "data": {
      "text/html": [
       "<div>\n",
       "<style scoped>\n",
       "    .dataframe tbody tr th:only-of-type {\n",
       "        vertical-align: middle;\n",
       "    }\n",
       "\n",
       "    .dataframe tbody tr th {\n",
       "        vertical-align: top;\n",
       "    }\n",
       "\n",
       "    .dataframe thead th {\n",
       "        text-align: right;\n",
       "    }\n",
       "</style>\n",
       "<table border=\"1\" class=\"dataframe\">\n",
       "  <thead>\n",
       "    <tr style=\"text-align: right;\">\n",
       "      <th></th>\n",
       "      <th>Height</th>\n",
       "    </tr>\n",
       "  </thead>\n",
       "  <tbody>\n",
       "    <tr>\n",
       "      <th>0</th>\n",
       "      <td>73.847017</td>\n",
       "    </tr>\n",
       "    <tr>\n",
       "      <th>1</th>\n",
       "      <td>68.781904</td>\n",
       "    </tr>\n",
       "    <tr>\n",
       "      <th>2</th>\n",
       "      <td>74.110105</td>\n",
       "    </tr>\n",
       "    <tr>\n",
       "      <th>3</th>\n",
       "      <td>71.730978</td>\n",
       "    </tr>\n",
       "    <tr>\n",
       "      <th>4</th>\n",
       "      <td>69.881796</td>\n",
       "    </tr>\n",
       "    <tr>\n",
       "      <th>...</th>\n",
       "      <td>...</td>\n",
       "    </tr>\n",
       "    <tr>\n",
       "      <th>3496</th>\n",
       "      <td>69.296830</td>\n",
       "    </tr>\n",
       "    <tr>\n",
       "      <th>3497</th>\n",
       "      <td>70.542201</td>\n",
       "    </tr>\n",
       "    <tr>\n",
       "      <th>3498</th>\n",
       "      <td>73.912549</td>\n",
       "    </tr>\n",
       "    <tr>\n",
       "      <th>3499</th>\n",
       "      <td>67.396021</td>\n",
       "    </tr>\n",
       "    <tr>\n",
       "      <th>3500</th>\n",
       "      <td>72.738970</td>\n",
       "    </tr>\n",
       "  </tbody>\n",
       "</table>\n",
       "<p>3501 rows × 1 columns</p>\n",
       "</div>"
      ],
      "text/plain": [
       "         Height\n",
       "0     73.847017\n",
       "1     68.781904\n",
       "2     74.110105\n",
       "3     71.730978\n",
       "4     69.881796\n",
       "...         ...\n",
       "3496  69.296830\n",
       "3497  70.542201\n",
       "3498  73.912549\n",
       "3499  67.396021\n",
       "3500  72.738970\n",
       "\n",
       "[3501 rows x 1 columns]"
      ]
     },
     "execution_count": 72,
     "metadata": {},
     "output_type": "execute_result"
    }
   ],
   "source": [
    "x.shape\n",
    "x"
   ]
  },
  {
   "cell_type": "code",
   "execution_count": 45,
   "id": "b0061370",
   "metadata": {},
   "outputs": [
    {
     "data": {
      "text/plain": [
       "0       241.893563\n",
       "1       162.310473\n",
       "2       212.740856\n",
       "3       220.042470\n",
       "4       206.349801\n",
       "           ...    \n",
       "3496    185.649086\n",
       "3497    210.198845\n",
       "3498    202.429960\n",
       "3499    144.277671\n",
       "3500    187.222909\n",
       "Name: Weight, Length: 3501, dtype: float64"
      ]
     },
     "execution_count": 45,
     "metadata": {},
     "output_type": "execute_result"
    }
   ],
   "source": [
    "y"
   ]
  },
  {
   "cell_type": "markdown",
   "id": "7adc0dc8",
   "metadata": {},
   "source": [
    "# Spliting the Dataset for regression model"
   ]
  },
  {
   "cell_type": "code",
   "execution_count": 40,
   "id": "6d546324",
   "metadata": {},
   "outputs": [],
   "source": [
    "#loading sklearn model for regression\n",
    "from sklearn.model_selection import train_test_split"
   ]
  },
  {
   "cell_type": "code",
   "execution_count": 46,
   "id": "0bba2fcc",
   "metadata": {},
   "outputs": [],
   "source": [
    "# 30 % data is set for test in (xtest,ytest) and 70% data is for training (xtrain,ytrain) \n",
    "xtrain, xtest, ytrain, ytest=train_test_split(x,y,test_size=0.3,random_state=1)"
   ]
  },
  {
   "cell_type": "markdown",
   "id": "39efbcf2",
   "metadata": {},
   "source": [
    "# Loading linear regression model"
   ]
  },
  {
   "cell_type": "code",
   "execution_count": 47,
   "id": "cb764e2f",
   "metadata": {},
   "outputs": [
    {
     "data": {
      "text/plain": [
       "LinearRegression()"
      ]
     },
     "execution_count": 47,
     "metadata": {},
     "output_type": "execute_result"
    }
   ],
   "source": [
    "from sklearn.linear_model import LinearRegression \n",
    "reg=LinearRegression()\n",
    "reg.fit(xtrain,ytrain)"
   ]
  },
  {
   "cell_type": "markdown",
   "id": "da1bdee7",
   "metadata": {},
   "source": [
    "\n",
    "# Get The value of m & c "
   ]
  },
  {
   "cell_type": "code",
   "execution_count": 29,
   "id": "055c07cd",
   "metadata": {},
   "outputs": [
    {
     "data": {
      "text/plain": [
       "array([5.97744946])"
      ]
     },
     "execution_count": 29,
     "metadata": {},
     "output_type": "execute_result"
    }
   ],
   "source": [
    "#value of m\n",
    "reg.coef_"
   ]
  },
  {
   "cell_type": "code",
   "execution_count": 30,
   "id": "b6443aef",
   "metadata": {},
   "outputs": [
    {
     "data": {
      "text/plain": [
       "-225.82603000755844"
      ]
     },
     "execution_count": 30,
     "metadata": {},
     "output_type": "execute_result"
    }
   ],
   "source": [
    "#value of c \n",
    "reg.intercept_"
   ]
  },
  {
   "cell_type": "markdown",
   "id": "4727be0a",
   "metadata": {},
   "source": [
    "# Linear Equation"
   ]
  },
  {
   "cell_type": "markdown",
   "id": "c975ec4f",
   "metadata": {},
   "source": [
    "y = mx + c. \n",
    "where m is coefficient,\n",
    "c is intercept,\n",
    "x is independent,\n",
    "y is dependent."
   ]
  },
  {
   "cell_type": "code",
   "execution_count": 34,
   "id": "743a7245",
   "metadata": {},
   "outputs": [
    {
     "data": {
      "text/plain": [
       "array([215.59078201])"
      ]
     },
     "execution_count": 34,
     "metadata": {},
     "output_type": "execute_result"
    }
   ],
   "source": [
    "# In the equtaion m= reg.coef_ =5.977444946;  c= reg.intercept_ =-225.82603000\n",
    "# Let xValue = x[0] = 73.847017 \n",
    "yValue = reg.coef_ * 73.847017 + reg.intercept_\n",
    "# The value of  will be closer to the value in the dataset. y[0] = 241.893563\n",
    "yValue"
   ]
  },
  {
   "cell_type": "markdown",
   "id": "fe93ce15",
   "metadata": {},
   "source": [
    "# Predict the value of y for all x"
   ]
  },
  {
   "cell_type": "code",
   "execution_count": 39,
   "id": "c328f3f8",
   "metadata": {},
   "outputs": [
    {
     "data": {
      "text/html": [
       "<div>\n",
       "<style scoped>\n",
       "    .dataframe tbody tr th:only-of-type {\n",
       "        vertical-align: middle;\n",
       "    }\n",
       "\n",
       "    .dataframe tbody tr th {\n",
       "        vertical-align: top;\n",
       "    }\n",
       "\n",
       "    .dataframe thead th {\n",
       "        text-align: right;\n",
       "    }\n",
       "</style>\n",
       "<table border=\"1\" class=\"dataframe\">\n",
       "  <thead>\n",
       "    <tr style=\"text-align: right;\">\n",
       "      <th></th>\n",
       "      <th>Height</th>\n",
       "      <th>Weight</th>\n",
       "      <th>output</th>\n",
       "    </tr>\n",
       "  </thead>\n",
       "  <tbody>\n",
       "    <tr>\n",
       "      <th>0</th>\n",
       "      <td>73.847017</td>\n",
       "      <td>241.893563</td>\n",
       "      <td>215.590782</td>\n",
       "    </tr>\n",
       "    <tr>\n",
       "      <th>1</th>\n",
       "      <td>68.781904</td>\n",
       "      <td>162.310473</td>\n",
       "      <td>185.314325</td>\n",
       "    </tr>\n",
       "    <tr>\n",
       "      <th>2</th>\n",
       "      <td>74.110105</td>\n",
       "      <td>212.740856</td>\n",
       "      <td>217.163380</td>\n",
       "    </tr>\n",
       "    <tr>\n",
       "      <th>3</th>\n",
       "      <td>71.730978</td>\n",
       "      <td>220.042470</td>\n",
       "      <td>202.942268</td>\n",
       "    </tr>\n",
       "    <tr>\n",
       "      <th>4</th>\n",
       "      <td>69.881796</td>\n",
       "      <td>206.349801</td>\n",
       "      <td>191.888873</td>\n",
       "    </tr>\n",
       "    <tr>\n",
       "      <th>...</th>\n",
       "      <td>...</td>\n",
       "      <td>...</td>\n",
       "      <td>...</td>\n",
       "    </tr>\n",
       "    <tr>\n",
       "      <th>3496</th>\n",
       "      <td>69.296830</td>\n",
       "      <td>185.649086</td>\n",
       "      <td>188.392269</td>\n",
       "    </tr>\n",
       "    <tr>\n",
       "      <th>3497</th>\n",
       "      <td>70.542201</td>\n",
       "      <td>210.198845</td>\n",
       "      <td>195.836414</td>\n",
       "    </tr>\n",
       "    <tr>\n",
       "      <th>3498</th>\n",
       "      <td>73.912549</td>\n",
       "      <td>202.429960</td>\n",
       "      <td>215.982497</td>\n",
       "    </tr>\n",
       "    <tr>\n",
       "      <th>3499</th>\n",
       "      <td>67.396021</td>\n",
       "      <td>144.277671</td>\n",
       "      <td>177.030278</td>\n",
       "    </tr>\n",
       "    <tr>\n",
       "      <th>3500</th>\n",
       "      <td>72.738970</td>\n",
       "      <td>187.222909</td>\n",
       "      <td>208.967487</td>\n",
       "    </tr>\n",
       "  </tbody>\n",
       "</table>\n",
       "<p>3501 rows × 3 columns</p>\n",
       "</div>"
      ],
      "text/plain": [
       "         Height      Weight      output\n",
       "0     73.847017  241.893563  215.590782\n",
       "1     68.781904  162.310473  185.314325\n",
       "2     74.110105  212.740856  217.163380\n",
       "3     71.730978  220.042470  202.942268\n",
       "4     69.881796  206.349801  191.888873\n",
       "...         ...         ...         ...\n",
       "3496  69.296830  185.649086  188.392269\n",
       "3497  70.542201  210.198845  195.836414\n",
       "3498  73.912549  202.429960  215.982497\n",
       "3499  67.396021  144.277671  177.030278\n",
       "3500  72.738970  187.222909  208.967487\n",
       "\n",
       "[3501 rows x 3 columns]"
      ]
     },
     "execution_count": 39,
     "metadata": {},
     "output_type": "execute_result"
    }
   ],
   "source": [
    "newDf=data.copy()\n",
    "newDf['output'] = reg.predict(df[['Height']])\n",
    "newDf"
   ]
  },
  {
   "cell_type": "markdown",
   "id": "33970093",
   "metadata": {},
   "source": [
    "# Deduce the Score of the Learning"
   ]
  },
  {
   "cell_type": "code",
   "execution_count": 48,
   "id": "45977a24",
   "metadata": {},
   "outputs": [
    {
     "data": {
      "text/plain": [
       "0.7313258168853622"
      ]
     },
     "execution_count": 48,
     "metadata": {},
     "output_type": "execute_result"
    }
   ],
   "source": [
    "reg.score(xtest,ytest)"
   ]
  },
  {
   "cell_type": "markdown",
   "id": "9915cecb",
   "metadata": {},
   "source": [
    "# Draw the best fit line"
   ]
  },
  {
   "cell_type": "code",
   "execution_count": 64,
   "id": "1eb49cf7",
   "metadata": {},
   "outputs": [
    {
     "data": {
      "text/plain": [
       "array([215.59078213, 185.31432533, 217.16337956, ..., 215.98249712,\n",
       "       177.03027812, 208.96748706])"
      ]
     },
     "execution_count": 64,
     "metadata": {},
     "output_type": "execute_result"
    }
   ],
   "source": [
    "#for all the value of x predict the value of y\n",
    "yVal=reg.predict(df[['Height']])"
   ]
  },
  {
   "cell_type": "code",
   "execution_count": 69,
   "id": "c28f36b0",
   "metadata": {},
   "outputs": [
    {
     "data": {
      "image/png": "[encoded data removed]",
      "text/plain": [
       "<Figure size 1800x1080 with 1 Axes>"
      ]
     },
     "metadata": {
      "needs_background": "light"
     },
     "output_type": "display_data"
    }
   ],
   "source": [
    "plt.figure(figsize=(25,15))\n",
    "# scatter plot is just pointing in the graph\n",
    "plt.scatter(df['Height'],df['Weight'])\n",
    "# the red colored line is the best fir line \n",
    "plt.plot(df[['Height']],yVal,color='red')\n",
    "# Visualization headings\n",
    "plt.xlabel(\"Height\",fontsize=20,fontweight='bold')\n",
    "plt.ylabel(\"Weight\",fontsize=20,fontweight='bold')\n",
    "plt.title(\"Height Vs Weight\",fontsize=24,fontweight='bold')\n",
    "plt.show()"
   ]
  },
  {
   "cell_type": "code",
   "execution_count": null,
   "id": "f22ac0d1",
   "metadata": {},
   "outputs": [],
   "source": []
  }
 ],
 "metadata": {
  "kernelspec": {
   "display_name": "Python 3",
   "language": "python",
   "name": "python3"
  },
  "language_info": {
   "codemirror_mode": {
    "name": "ipython",
    "version": 3
   },
   "file_extension": ".py",
   "mimetype": "text/x-python",
   "name": "python",
   "nbconvert_exporter": "python",
   "pygments_lexer": "ipython3",
   "version": "3.8.8"
  }
 },
 "nbformat": 4,
 "nbformat_minor": 5
}
